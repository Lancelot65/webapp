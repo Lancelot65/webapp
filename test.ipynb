{
 "cells": [
  {
   "cell_type": "code",
   "execution_count": 1,
   "metadata": {},
   "outputs": [],
   "source": [
    "import sqlite3"
   ]
  },
  {
   "cell_type": "code",
   "execution_count": 13,
   "metadata": {},
   "outputs": [],
   "source": [
    "con = sqlite3.connect('cours.db')"
   ]
  },
  {
   "cell_type": "code",
   "execution_count": 23,
   "metadata": {},
   "outputs": [
    {
     "ename": "OperationalError",
     "evalue": "table data already exists",
     "output_type": "error",
     "traceback": [
      "\u001b[1;31m---------------------------------------------------------------------------\u001b[0m",
      "\u001b[1;31mOperationalError\u001b[0m                          Traceback (most recent call last)",
      "Cell \u001b[1;32mIn[23], line 2\u001b[0m\n\u001b[0;32m      1\u001b[0m cur \u001b[39m=\u001b[39m con\u001b[39m.\u001b[39mcursor()\n\u001b[1;32m----> 2\u001b[0m cur\u001b[39m.\u001b[39;49mexecute(\u001b[39m'\u001b[39;49m\u001b[39mcreate table data(close integer, open integer, volume integer)\u001b[39;49m\u001b[39m'\u001b[39;49m)\n\u001b[0;32m      3\u001b[0m cur\u001b[39m.\u001b[39mclose()\n",
      "\u001b[1;31mOperationalError\u001b[0m: table data already exists"
     ]
    }
   ],
   "source": [
    "cur = con.cursor()\n",
    "cur.execute('create table data(close integer, open integer, volume integer)')\n",
    "cur.close()"
   ]
  },
  {
   "cell_type": "code",
   "execution_count": 24,
   "metadata": {},
   "outputs": [],
   "source": [
    "cur = con.cursor()\n",
    "data = [{'close': 1, 'open': 1, 'volume' : 1}, {'close': 2, 'open': 2, 'volume' : 2}]\n",
    "for d in data:\n",
    "    cur.execute(\"insert into data (close, open, volume) values (:close, :open, :volume)\", d)\n",
    "cur.close()"
   ]
  },
  {
   "cell_type": "code",
   "execution_count": 25,
   "metadata": {},
   "outputs": [
    {
     "name": "stdout",
     "output_type": "stream",
     "text": [
      "[(1, 1, 1), (2, 2, 2)]\n"
     ]
    }
   ],
   "source": [
    "cur = con.cursor()\n",
    "cur.execute('select close, open, volume from data')\n",
    "rows = cur.fetchall()\n",
    "print(rows)\n",
    "cur.close()"
   ]
  },
  {
   "cell_type": "code",
   "execution_count": 10,
   "metadata": {},
   "outputs": [],
   "source": [
    "con.close()"
   ]
  },
  {
   "cell_type": "code",
   "execution_count": 30,
   "metadata": {},
   "outputs": [
    {
     "data": {
      "text/plain": [
       "[[1693139460000, 26058.61, 26058.61, 26058.6, 26058.61, 2.01383],\n",
       " [1693139520000, 26058.6, 26058.61, 26058.6, 26058.6, 2.06959],\n",
       " [1693139580000, 26058.6, 26058.61, 26058.6, 26058.6, 1.05862],\n",
       " [1693139640000, 26058.61, 26059.83, 26058.6, 26059.82, 6.84423],\n",
       " [1693139700000, 26059.83, 26059.83, 26059.82, 26059.83, 1.36834],\n",
       " [1693139760000, 26059.82, 26059.83, 26059.82, 26059.83, 1.58124],\n",
       " [1693139820000, 26059.83, 26059.83, 26059.82, 26059.82, 1.14417],\n",
       " [1693139880000, 26059.83, 26059.83, 26059.82, 26059.83, 1.40123],\n",
       " [1693139940000, 26059.83, 26059.83, 26059.82, 26059.83, 9.58049],\n",
       " [1693140000000, 26059.82, 26059.83, 26059.82, 26059.82, 2.03967]]"
      ]
     },
     "execution_count": 30,
     "metadata": {},
     "output_type": "execute_result"
    }
   ],
   "source": [
    "import ccxt\n",
    "ex = ccxt.binance()\n",
    "data = ex.fetch_ohlcv('BTC/USDT', limit=10, timeframe='1m')\n",
    "data"
   ]
  },
  {
   "cell_type": "code",
   "execution_count": 33,
   "metadata": {},
   "outputs": [],
   "source": [
    "cur = con.cursor()\n",
    "cur.execute('create table btcusdt1nm (time integer, open integer, high integer, low integer, close integer, volume integer)')\n",
    "cur.close()"
   ]
  },
  {
   "cell_type": "code",
   "execution_count": 34,
   "metadata": {},
   "outputs": [],
   "source": [
    "cur = con.cursor()\n",
    "for d in data:\n",
    "    cur.execute(\"insert into btcusdt1nm (time, open, high, low, close, volume) values (? ,? ,? ,? ,?, ?)\", d)\n",
    "cur.close()"
   ]
  },
  {
   "cell_type": "code",
   "execution_count": 36,
   "metadata": {},
   "outputs": [
    {
     "name": "stdout",
     "output_type": "stream",
     "text": [
      "[(1693139460000,), (1693139520000,), (1693139580000,), (1693139640000,), (1693139700000,), (1693139760000,), (1693139820000,), (1693139880000,), (1693139940000,), (1693140000000,)]\n"
     ]
    }
   ],
   "source": [
    "cur = con.cursor()\n",
    "cur.execute('select time from btcusdt1nm')\n",
    "rows = cur.fetchall()\n",
    "print(rows)\n",
    "cur.close()"
   ]
  }
 ],
 "metadata": {
  "kernelspec": {
   "display_name": "Python 3",
   "language": "python",
   "name": "python3"
  },
  "language_info": {
   "codemirror_mode": {
    "name": "ipython",
    "version": 3
   },
   "file_extension": ".py",
   "mimetype": "text/x-python",
   "name": "python",
   "nbconvert_exporter": "python",
   "pygments_lexer": "ipython3",
   "version": "3.10.11"
  },
  "orig_nbformat": 4
 },
 "nbformat": 4,
 "nbformat_minor": 2
}
